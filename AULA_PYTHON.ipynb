{
  "nbformat": 4,
  "nbformat_minor": 0,
  "metadata": {
    "colab": {
      "provenance": [],
      "authorship_tag": "ABX9TyMozwMzbHjsR2bKIhhDqfKd",
      "include_colab_link": true
    },
    "kernelspec": {
      "name": "python3",
      "display_name": "Python 3"
    },
    "language_info": {
      "name": "python"
    }
  },
  "cells": [
    {
      "cell_type": "markdown",
      "metadata": {
        "id": "view-in-github",
        "colab_type": "text"
      },
      "source": [
        "<a href=\"https://colab.research.google.com/github/Izadoramachado/python/blob/main/AULA_PYTHON.ipynb\" target=\"_parent\"><img src=\"https://colab.research.google.com/assets/colab-badge.svg\" alt=\"Open In Colab\"/></a>"
      ]
    },
    {
      "cell_type": "code",
      "execution_count": null,
      "metadata": {
        "id": "S5vq6022m1Nh"
      },
      "outputs": [],
      "source": []
    },
    {
      "cell_type": "markdown",
      "source": [
        "aula 1"
      ],
      "metadata": {
        "id": "8wik9ZELnWMl"
      }
    },
    {
      "cell_type": "code",
      "source": [
        "print(\"I competição de programação dá Start\")"
      ],
      "metadata": {
        "colab": {
          "base_uri": "https://localhost:8080/"
        },
        "id": "-RFOJYHhnljc",
        "outputId": "45dff8b8-aaf4-4b6e-c1fb-f1557106c0e4"
      },
      "execution_count": null,
      "outputs": [
        {
          "output_type": "stream",
          "name": "stdout",
          "text": [
            "I competição de programação dá Start\n"
          ]
        }
      ]
    },
    {
      "cell_type": "code",
      "source": [
        "ano = \"VI\""
      ],
      "metadata": {
        "id": "VRp1IwVXooMr"
      },
      "execution_count": null,
      "outputs": []
    },
    {
      "cell_type": "code",
      "source": [
        "print(ano, \"competição de programação da Start\")"
      ],
      "metadata": {
        "colab": {
          "base_uri": "https://localhost:8080/"
        },
        "id": "PmDKuA00oud4",
        "outputId": "62d805a6-2e50-418e-a404-57ac4a850e1a"
      },
      "execution_count": null,
      "outputs": [
        {
          "output_type": "stream",
          "name": "stdout",
          "text": [
            "II competição de programação da Start\n"
          ]
        }
      ]
    },
    {
      "cell_type": "markdown",
      "source": [
        "aula 2"
      ],
      "metadata": {
        "id": "wCSD4WrghlbM"
      }
    },
    {
      "cell_type": "code",
      "source": [
        "livro_ficcao = 8\n",
        "livro_n_ficcao = 10\n",
        "livro_infantil = 6\n",
        "pontos_rodrigo = livro_ficcao + livro_n_ficcao + livro_infantil\n",
        "print(f\"Os pontos totais do Rodrigo são {pontos_rodrigo}\")\n",
        "pontos_ana = 2 * livro_ficcao + 5 * livro_infantil\n",
        "print(f\"os pontos totais da ana são{pontos_ana}\")\n",
        "pontos_carlos= 1 * livro_ficcao + 3 * livro_n_ficcao +3 * livro_infantil\n",
        "print(f\"os pontos totais da carlos são{pontos_carlos}\")\n",
        "pontos_totais = pontos_rodrigo + pontos_ana + pontos_carlos\n",
        "print(f\"Os pontos totais de ana e rodrigo e carlos são {pontos_totais}\")"
      ],
      "metadata": {
        "colab": {
          "base_uri": "https://localhost:8080/"
        },
        "id": "IzY92udqhvoo",
        "outputId": "65c4b6de-5f95-4a66-b5f6-7fa3e2cf2320"
      },
      "execution_count": 7,
      "outputs": [
        {
          "output_type": "stream",
          "name": "stdout",
          "text": [
            "Os pontos totais do Rodrigo são 24\n",
            "os pontos totais da ana são46\n",
            "os pontos totais da carlos são56\n",
            "Os pontos totais de ana e rodrigo e carlos são 126\n"
          ]
        }
      ]
    }
  ]
}